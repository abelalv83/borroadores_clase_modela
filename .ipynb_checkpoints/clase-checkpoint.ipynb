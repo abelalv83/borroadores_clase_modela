{
 "cells": [
  {
   "cell_type": "markdown",
   "metadata": {},
   "source": [
    "# Ecuaciones Variables separables \n",
    "La EDO de variable separable tiene la forma \n",
    "\n",
    "$\\begin{equation}\n",
    "N(y)y'+M(x)=0\n",
    "\\end{equation}$\n",
    "\n",
    "Para resolver (1) el siguiente procedimiento\n",
    "\n",
    "1. Separa las variables para escribir la EDO de la forma $N(y)y'+M(x)=0$, e identificar los coeficientes $N(y)$ y $M(x)$ \n",
    "2. Determine la antiderivada $G(y)$ para $N(y)$ y otra  $F(x)$ para $N(x)$.\n",
    "3. Todas las soluciones $y=y(x)$ satisfacen la ecuación $G(y)+F(x)=C$, donde $C$ es una constante \n",
    "\n",
    "## Integrales y curvas integrales \n",
    "\n",
    "Definiremos algunos términos nuevos\n",
    "\n",
    "*Integrales y curvas integrales* Una función no constante $H(x,y)$ en un rectángulo Res una integral de la EDO $Ny'+M=0$ si para cualquier solución $y(x)$ cyuya gráfica este dentro de R, $H(x,y(x))=C$ para alguna constante $C$. El conjunto de puntos en R que satisfacen $H(x,y)=C$ es una curva integral de la EDO. Si C es una constante no especificada, entonces $H(x,y)=C$ es la solución generl implicita de la EDO\n",
    "\n",
    "### Considere el ejemplo \n",
    " $\\begin{equation}\n",
    "yy'-x=0\n",
    "\\end{equation}\n",
    "$\n",
    "\n",
    "\n"
   ]
  },
  {
   "cell_type": "markdown",
   "metadata": {},
   "source": [
    "# Ejercicios\n",
    "Encuentre \n",
    "1. La curva integral de $yy'+x=0$ pasando por el punto $(2,-1) $\n",
    "2. $(1-y^2)y'+x^2=0$ Encuentre la solución general \n",
    "3. $(1-y^2)y'+x^2=0$, encuentre la curva integral que pasando por el punto $(-1,1/2)$"
   ]
  },
  {
   "cell_type": "markdown",
   "metadata": {},
   "source": [
    "# Ecuación Lógistica\n",
    "\n",
    "LA solución de la ecuación logística es conocida como la [función](https://es.wikipedia.org/wiki/Funci%C3%B3n_log%C3%ADstica), la cual se usa para modelar diferentes fenómenos como propgación de enfermedades, crecimineto poblacional difusión en redes sociales, entre otros. \n",
    "\n",
    "Supongamos que tenemos una población de peces en un estanque, y queremos modelar la población en un determinado tiempo. Para ello vamos a crear un módelo basado en ecuaciones diferenciales ordinarias, usando el siguietne principio \n",
    "\n",
    "La  tasa de cambio neta de  la población de peces en toneladas=$y'(t)$ es equivalente a la tasa de necimiento menos la tasa de muerte.\n",
    "\n",
    "¿Podemos escribir esto como una ecuación diferencial?\n",
    "¿Qué supuestos debeos incluir?\n",
    "\n",
    "## Intentelo\n"
   ]
  }
 ],
 "metadata": {
  "interpreter": {
   "hash": "0f8d560b4f954a663ef2d2eb0a025ee4f44603e4aca358b90fe4e7eb3bb12b2e"
  },
  "kernelspec": {
   "display_name": "Python 3 (ipykernel)",
   "language": "python",
   "name": "python3"
  },
  "language_info": {
   "codemirror_mode": {
    "name": "ipython",
    "version": 3
   },
   "file_extension": ".py",
   "mimetype": "text/x-python",
   "name": "python",
   "nbconvert_exporter": "python",
   "pygments_lexer": "ipython3",
   "version": "3.8.5"
  }
 },
 "nbformat": 4,
 "nbformat_minor": 2
}
